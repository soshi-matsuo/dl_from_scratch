{
 "cells": [
  {
   "cell_type": "markdown",
   "metadata": {},
   "source": [
    "# chapter2 perceptron"
   ]
  },
  {
   "cell_type": "markdown",
   "metadata": {},
   "source": [
    "## naive perceptron"
   ]
  },
  {
   "cell_type": "code",
   "execution_count": 1,
   "metadata": {
    "ExecuteTime": {
     "end_time": "2019-02-05T01:44:09.271054Z",
     "start_time": "2019-02-05T01:44:09.260722Z"
    }
   },
   "outputs": [
    {
     "name": "stdout",
     "output_type": "stream",
     "text": [
      "0\n",
      "1\n",
      "1\n"
     ]
    }
   ],
   "source": [
    "# x1, x2を0 or 1として、論理回路を実装する  \n",
    "# 各ゲートは重みとバイアスが違うだけで全く同じ構造  \n",
    "# 以下の関数のif節は、活性化関数にステップ関数（閾値を境に出力が切り替わる関数）を使っていると表現できる  \n",
    "\n",
    "import numpy as np\n",
    "\n",
    "# AND gate\n",
    "def AND_gate(x1, x2):\n",
    "    x = np.array([x1, x2])\n",
    "    w = np.array([0.5, 0.5])\n",
    "    border = -0.7\n",
    "    liner_sum = np.dot(x, w) + border\n",
    "    if liner_sum > 0:\n",
    "        return 1\n",
    "    else:\n",
    "        return 0\n",
    "    \n",
    "def OR_gate(x1, x2):\n",
    "    x = np.array([x1, x2])\n",
    "    w = np.array([0.5, 0.5])\n",
    "    border = -0.3\n",
    "    liner_sum = np.dot(x, w) + border\n",
    "    if liner_sum > 0:\n",
    "        return 1\n",
    "    else:\n",
    "        return 0\n",
    "    \n",
    "def NAND_gate(x1, x2):\n",
    "    x = np.array([x1, x2])\n",
    "    w = np.array([-0.5, -0.5])\n",
    "    border = 0.7\n",
    "    liner_sum = np.dot(x, w) + border\n",
    "    if liner_sum > 0:\n",
    "        return 1\n",
    "    else:\n",
    "        return 0\n",
    "\n",
    "print(AND_gate(1, 0))\n",
    "print(OR_gate(1, 0))\n",
    "print(NAND_gate(1, 0))"
   ]
  },
  {
   "cell_type": "markdown",
   "metadata": {},
   "source": [
    "## XOR_gate(multi layer perceptron)  \n",
    "XORゲートは非線形領域を示し、１層の単純パーセプトロンでは表現できない  \n",
    "OR, NANDの出力をANDの入力とすることでXORを表現できる  \n",
    "つまり、単純パーセプトロンを重ねることによって非線形領域が表現できる  "
   ]
  },
  {
   "cell_type": "code",
   "execution_count": 2,
   "metadata": {
    "ExecuteTime": {
     "end_time": "2019-02-05T01:44:11.504794Z",
     "start_time": "2019-02-05T01:44:11.499108Z"
    },
    "scrolled": true
   },
   "outputs": [
    {
     "name": "stdout",
     "output_type": "stream",
     "text": [
      "1\n",
      "0\n",
      "0\n"
     ]
    }
   ],
   "source": [
    "\n",
    "def XOR_gate(x1, x2):\n",
    "    y_or = OR_gate(x1, x2)\n",
    "    y_nand = NAND_gate(x1, x2)\n",
    "    y = AND_gate(y_or, y_nand)\n",
    "    return y\n",
    "    \n",
    "# 実行結果は排他的論理和を表している\n",
    "print(XOR_gate(1,0))\n",
    "print(XOR_gate(1,1))\n",
    "print(XOR_gate(0,0))"
   ]
  },
  {
   "cell_type": "markdown",
   "metadata": {},
   "source": [
    "# chapter3 Neural Network"
   ]
  },
  {
   "cell_type": "markdown",
   "metadata": {},
   "source": [
    "## Activation function  \n",
    "NNと、多層の単純パーセプトロンとの大きな違いは、１．活性化関数の種類と、２．パラメータを自動で学習する点  \n",
    "１．単純パーセプトロンではステップ関数を使ったが、NNではシグモイド関数やReLU関数を使う  \n",
    "２．単純パーセプトロンでは条件を見たすパラメータを事前にハードコーディングしたが、NNは最適なパラメータをデータから学習する"
   ]
  },
  {
   "cell_type": "code",
   "execution_count": 3,
   "metadata": {
    "ExecuteTime": {
     "end_time": "2019-02-05T01:44:12.924060Z",
     "start_time": "2019-02-05T01:44:12.563548Z"
    }
   },
   "outputs": [],
   "source": [
    "%matplotlib inline"
   ]
  },
  {
   "cell_type": "code",
   "execution_count": 4,
   "metadata": {
    "ExecuteTime": {
     "end_time": "2019-02-05T01:44:13.348849Z",
     "start_time": "2019-02-05T01:44:13.001994Z"
    }
   },
   "outputs": [
    {
     "data": {
      "image/png": "[encoded data removed]",
      "text/plain": [
       "<Figure size 432x288 with 1 Axes>"
      ]
     },
     "metadata": {
      "needs_background": "light"
     },
     "output_type": "display_data"
    },
    {
     "data": {
      "image/png": "[encoded data removed]",
      "text/plain": [
       "<Figure size 432x288 with 1 Axes>"
      ]
     },
     "metadata": {
      "needs_background": "light"
     },
     "output_type": "display_data"
    },
    {
     "data": {
      "image/png": "[encoded data removed]",
      "text/plain": [
       "<Figure size 432x288 with 1 Axes>"
      ]
     },
     "metadata": {
      "needs_background": "light"
     },
     "output_type": "display_data"
    }
   ],
   "source": [
    "\n",
    "import matplotlib.pyplot as plt\n",
    "\n",
    "# ステップ関数の実装\n",
    "def step(x):\n",
    "    # x(ndarray)に比較演算を行い、0より大きい要素をTrueに、0以下をFalseに変換\n",
    "    y = x > 0 \n",
    "    \n",
    "    # y(Bool型Numpy配列)をastypeでintに変換すると、Trueは1に、Falseは0に変換される\n",
    "    return y.astype(np.int)\n",
    "\n",
    "\n",
    "# sigmoid関数の実装\n",
    "def sigmoid(x):\n",
    "    return 1 / (1 + np.exp(-x))\n",
    "\n",
    "# ReLU関数の実装\n",
    "def relu(x):\n",
    "    return np.maximum(0, x)\n",
    "\n",
    "# 各グラフのプロット\n",
    "x1 = np.arange(-5, 5, 0.1)\n",
    "y1 = step(x1)\n",
    "plt.plot(x1, y1)\n",
    "plt.ylim(-0.1, 1.1)\n",
    "plt.show()\n",
    "\n",
    "x2 = np.arange(-5.0, 5.0, 0.1)\n",
    "y2 = sigmoid(x2)\n",
    "plt.plot(x2, y2)\n",
    "plt.ylim(-0.1, 1.1)\n",
    "plt.show()\n",
    "\n",
    "x3 = np.arange(-5.0, 5.0, 0.1)\n",
    "y3 = relu(x3)\n",
    "plt.plot(x3, y3)\n",
    "plt.ylim(-0.1, 5.1)\n",
    "plt.show()"
   ]
  },
  {
   "cell_type": "markdown",
   "metadata": {},
   "source": [
    "## multi-dim array"
   ]
  },
  {
   "cell_type": "code",
   "execution_count": 5,
   "metadata": {
    "ExecuteTime": {
     "end_time": "2019-02-05T01:44:14.256280Z",
     "start_time": "2019-02-05T01:44:14.251690Z"
    }
   },
   "outputs": [
    {
     "name": "stdout",
     "output_type": "stream",
     "text": [
      "[1 2 3 4]\n",
      "1\n",
      "(4,)\n",
      "4\n"
     ]
    }
   ],
   "source": [
    "A = np.array([1,2,3,4])\n",
    "print(A)\n",
    "print(np.ndim(A))\n",
    "print(A.shape) # 配列の形状はインスタンス変数shapeを参照する(関数ではない)\n",
    "print(A.shape[0])"
   ]
  },
  {
   "cell_type": "code",
   "execution_count": 6,
   "metadata": {
    "ExecuteTime": {
     "end_time": "2019-02-05T01:44:14.626050Z",
     "start_time": "2019-02-05T01:44:14.619403Z"
    }
   },
   "outputs": [
    {
     "name": "stdout",
     "output_type": "stream",
     "text": [
      "[[1 2]\n",
      " [3 4]\n",
      " [5 6]]\n",
      "2\n",
      "(3, 2)\n"
     ]
    }
   ],
   "source": [
    "B = np.array([[1,2], [3,4], [5,6]])\n",
    "print(B)\n",
    "print(np.ndim(B))\n",
    "print(B.shape)"
   ]
  },
  {
   "cell_type": "code",
   "execution_count": 7,
   "metadata": {
    "ExecuteTime": {
     "end_time": "2019-02-05T01:44:15.042123Z",
     "start_time": "2019-02-05T01:44:15.035341Z"
    }
   },
   "outputs": [
    {
     "data": {
      "text/plain": [
       "array([[19, 22],\n",
       "       [43, 50]])"
      ]
     },
     "execution_count": 7,
     "metadata": {},
     "output_type": "execute_result"
    }
   ],
   "source": [
    "A = np.array([[1,2], [3,4]])\n",
    "B = np.array([[5,6], [7,8]])\n",
    "np.dot(A, B)# np.dot()で行列積計算（ベクトル同士なら内積計算）"
   ]
  },
  {
   "cell_type": "markdown",
   "metadata": {},
   "source": [
    "NNにおいて、Numpyでの行列計算は実装上とても重要になる  \n",
    "各層において入力と重みの計算を何度も繰り返すことになるが、それらは全て行列積計算で表せる"
   ]
  },
  {
   "cell_type": "code",
   "execution_count": 9,
   "metadata": {
    "ExecuteTime": {
     "end_time": "2019-02-05T01:44:24.545036Z",
     "start_time": "2019-02-05T01:44:24.536740Z"
    }
   },
   "outputs": [
    {
     "name": "stdout",
     "output_type": "stream",
     "text": [
      "(2,)\n",
      "(2, 3)\n",
      "[ 5 11 17]\n"
     ]
    }
   ],
   "source": [
    "# X, W, Yを入力、重み、出力とする\n",
    "X = np.array([1, 2])\n",
    "W = np.array([[1,3,5], [2,4,6]])\n",
    "print(X.shape)\n",
    "print(W.shape)\n",
    "Y = np.dot(X, W) # np.dotで一発\n",
    "print(Y)"
   ]
  },
  {
   "cell_type": "markdown",
   "metadata": {},
   "source": [
    "## make simple Neural Network  \n",
    "入力値に基づいてテキトーな予測値を出力する、隠れ層2つで活性化関数にsigmoidを使ったNNを実装する"
   ]
  },
  {
   "cell_type": "code",
   "execution_count": 10,
   "metadata": {
    "ExecuteTime": {
     "end_time": "2019-02-05T01:44:29.824082Z",
     "start_time": "2019-02-05T01:44:29.815349Z"
    }
   },
   "outputs": [
    {
     "name": "stdout",
     "output_type": "stream",
     "text": [
      "[1.68772609 1.6156591 ]\n"
     ]
    }
   ],
   "source": [
    "import numpy as np\n",
    "\n",
    "def init_network():\n",
    "    net = {}\n",
    "    # dictの要素として重みとバイアスをランダムに初期化\n",
    "    # np.random.rand()で、引数に指定した形状の,0~1の範囲の乱数配列が作れる\n",
    "    net['W1'] = np.random.rand(2, 3)\n",
    "    net['b1'] = np.random.rand(3)\n",
    "    net['W2'] = np.random.rand(3, 2)\n",
    "    net['b2'] = np.random.rand(2)\n",
    "    net['W3'] = np.random.rand(2, 2)\n",
    "    net['b3'] = np.random.rand(2)\n",
    "    \n",
    "    return net\n",
    "\n",
    "def forward(net, x):\n",
    "    W1, W2, W3 = net['W1'], net['W2'], net['W3']\n",
    "    b1, b2, b3 = net['b1'], net['b2'], net['b3']\n",
    "    \n",
    "    a1 = np.dot(x, W1) + b1\n",
    "    z1 = sigmoid(a1)\n",
    "    a2 = np.dot(z1, W2) + b2\n",
    "    z2 = sigmoid(a2)\n",
    "    a3 = np.dot(z2, W3) + b3\n",
    "    # 出力層で、隠れ層からの入力をそのまま流す（恒等関数を用いているといえる）\n",
    "    y = a3\n",
    "    \n",
    "    return y\n",
    "\n",
    "net = init_network()\n",
    "x = np.array([1, 0.5])\n",
    "y = forward(net, x)\n",
    "print(y)"
   ]
  },
  {
   "cell_type": "markdown",
   "metadata": {},
   "source": [
    "上のNNは出力層で恒等関数を使ったが、出力層の設計にも種類がある  \n",
    "恒等関数は主に回帰問題において使われる  \n",
    "分類問題においては主にSoftMax関数が使用される   \n",
    "$ \n",
    "    y_k = \\frac{exp(a_k)}{\\sum_{i=1}^{n}\\exp(a_i)} \n",
    "$  \n",
    "出力層がn個あるとして、k番目の出力$ y_k $を求める計算式  \n",
    "$ k $番目の入力の指数関数を、全ての入力における指数関数の総和で割ったもので、各要素が0から1の間に収束し、総和は1になる（確率として解釈できる）"
   ]
  },
  {
   "cell_type": "code",
   "execution_count": 11,
   "metadata": {
    "ExecuteTime": {
     "end_time": "2019-02-05T01:44:31.170667Z",
     "start_time": "2019-02-05T01:44:31.164152Z"
    }
   },
   "outputs": [
    {
     "name": "stdout",
     "output_type": "stream",
     "text": [
      "[9.99954600e-01 4.53978686e-05 2.06106005e-09]\n",
      "[True, True, True]\n",
      "1.0\n"
     ]
    }
   ],
   "source": [
    "# Softmax関数の実装\n",
    "def softmax(a):\n",
    "    # eのa乗の計算はすぐに非常に大きな数になり、そのような数同士の除算はオーバーフロー（表現できる桁数を超える）を起こす\n",
    "    # 配列aの中で最大の要素でaの各要素を減算して、eのa乗の計算結果を正規化\n",
    "    c = np.max(a)\n",
    "    a -= c\n",
    "    \n",
    "    exp_a = np.exp(a)\n",
    "    sum_exp_a = np.sum(exp_a)\n",
    "    y = exp_a / sum_exp_a\n",
    "    return y\n",
    "\n",
    "y = softmax(np.array([1010, 1000, 990]))\n",
    "print(y)\n",
    "\n",
    "# softmax関数は、上述の通り各要素が0~1の範囲に収まり、総和が1になる（確率として解釈可能）\n",
    "print([0 < i < 1 for i in y])\n",
    "print(np.sum(y))"
   ]
  },
  {
   "cell_type": "markdown",
   "metadata": {},
   "source": [
    "ソフトマックス関数を適用しても、各要素の大小関係は変動しない  \n",
    "NNにおける分類問題では、出力層のニューロンの数を分類したいクラスの数と同じにして、最も値の大きいニューロンに相当するクラスのみを予測結果とするので、出力層のソフトマックス関数は省略可能"
   ]
  },
  {
   "cell_type": "markdown",
   "metadata": {},
   "source": [
    "## MNIST classification  \n",
    "本書のコード(in Github)からMNISTデータとパラメータ学習済みのモデルをimportし、画像の分類を行う"
   ]
  },
  {
   "cell_type": "code",
   "execution_count": 12,
   "metadata": {
    "ExecuteTime": {
     "end_time": "2019-02-05T01:44:32.886116Z",
     "start_time": "2019-02-05T01:44:32.755663Z"
    },
    "scrolled": true
   },
   "outputs": [
    {
     "name": "stdout",
     "output_type": "stream",
     "text": [
      "(60000, 784)\n",
      "(60000,)\n",
      "(10000, 784)\n",
      "(10000,)\n"
     ]
    }
   ],
   "source": [
    "from dlbook.dataset.mnist import load_mnist\n",
    "\n",
    "# キーワード引数でピクセルデータを0~1に正規化、画像データ（多次元配列）を一次元に変換、one-hot表現の有無を切り替えられる\n",
    "(x_train, t_train), (x_test, t_test) = load_mnist(flatten=True, normalize=False)\n",
    "print(x_train.shape)\n",
    "print(t_train.shape)\n",
    "print(x_test.shape)\n",
    "print(t_test.shape)"
   ]
  },
  {
   "cell_type": "markdown",
   "metadata": {},
   "source": [
    "画像を表示する"
   ]
  },
  {
   "cell_type": "code",
   "execution_count": 13,
   "metadata": {
    "ExecuteTime": {
     "end_time": "2019-02-05T01:44:34.245540Z",
     "start_time": "2019-02-05T01:44:34.124003Z"
    }
   },
   "outputs": [
    {
     "name": "stdout",
     "output_type": "stream",
     "text": [
      "5\n",
      "(784,)\n"
     ]
    },
    {
     "data": {
      "image/png": "[encoded data removed]",
      "text/plain": [
       "<Figure size 432x288 with 1 Axes>"
      ]
     },
     "metadata": {
      "needs_background": "light"
     },
     "output_type": "display_data"
    }
   ],
   "source": [
    "from PIL import Image\n",
    "\n",
    "def img_show(img):\n",
    "    # ndarray型のimgを、pillow用のデータオブジェクトに変換\n",
    "    pil_img = Image.fromarray(np.uint8(img))\n",
    "    # matplotlib.pyplotを呼び出すことで、jupyter notebookにinline表示する\n",
    "    plt.imshow(pil_img)\n",
    "    \n",
    "img = x_train[0]\n",
    "label = t_train[0]\n",
    "print(label)\n",
    "print(img.shape)\n",
    "img = img.reshape(28, 28)\n",
    "img_show(img)"
   ]
  },
  {
   "cell_type": "code",
   "execution_count": 15,
   "metadata": {
    "ExecuteTime": {
     "end_time": "2019-02-05T01:45:21.749326Z",
     "start_time": "2019-02-05T01:45:20.871724Z"
    }
   },
   "outputs": [
    {
     "name": "stdout",
     "output_type": "stream",
     "text": [
      "Accuracy: 0.9352\n"
     ]
    }
   ],
   "source": [
    "import pickle\n",
    "\n",
    "def get_data():\n",
    "    (x_train, t_train), (x_test, t_test) = \\\n",
    "        load_mnist(normalize=True, flatten=True, one_hot_label=False)\n",
    "    return x_test, t_test\n",
    "\n",
    "def init_network():\n",
    "    with open('dlbook/ch03/sample_weight.pkl', 'rb') as f:\n",
    "        network = pickle.load(f)\n",
    "    return network\n",
    "\n",
    "def predict(network, x):\n",
    "    W1, W2, W3 = network['W1'], network['W2'], network['W3']\n",
    "    b1, b2, b3 = network['b1'], network['b2'], network['b3']\n",
    "    \n",
    "    a1 = np.dot(x, W1) + b1\n",
    "    z1 = sigmoid(a1)\n",
    "    a2 = np.dot(z1, W2) + b2\n",
    "    z2 = sigmoid(a2)\n",
    "    a3 = np.dot(z2, W3) + b3\n",
    "    y = softmax(a3)\n",
    "    \n",
    "    return y\n",
    "\n",
    "x, t = get_data()\n",
    "network = init_network()\n",
    "\n",
    "accuracy_count = 0\n",
    "for i in range(len(x)):\n",
    "    y = predict(network, x[i])\n",
    "    p = np.argmax(y) # 最も確率の高い要素のindexを取得\n",
    "    if p == t[i]:\n",
    "        accuracy_count += 1\n",
    "\n",
    "print('Accuracy: ' + str(accuracy_count/len(x)))"
   ]
  },
  {
   "cell_type": "markdown",
   "metadata": {},
   "source": [
    "## Batch processing"
   ]
  },
  {
   "cell_type": "markdown",
   "metadata": {},
   "source": [
    "上記は画像データを一枚ずつ処理しているが、100枚ずつまとめて画像が入力された場合を考える  \n",
    "このようにある程度の単位でまとめられた入力をバッチと呼ぶ（束という意味）  \n",
    "数値計算ライブラリは、大きな配列を一度に計算するほうが、分割した小さい配列を少しずつ計算するよりも高速に処理できるので、バッチ処理のほうが早く計算が完了する"
   ]
  },
  {
   "cell_type": "code",
   "execution_count": 16,
   "metadata": {
    "ExecuteTime": {
     "end_time": "2019-02-05T02:12:35.455326Z",
     "start_time": "2019-02-05T02:12:35.078937Z"
    }
   },
   "outputs": [
    {
     "name": "stdout",
     "output_type": "stream",
     "text": [
      "Accuracy: 0.9352\n"
     ]
    }
   ],
   "source": [
    "x, t = get_data()\n",
    "network = init_network()\n",
    "\n",
    "batch_size = 100\n",
    "accuracy_count = 0\n",
    "\n",
    "for i in range(0, len(x), batch_size): # range関数にstepとしてbatch_sizeを指定して、データを100個ずつ処理\n",
    "    x_batch = x[i:i+batch_size]\n",
    "    y_batch = predict(network, x_batch)\n",
    "    p = np.argmax(y_batch, axis=1)\n",
    "    accuracy_count += np.sum(p == t[i:i+batch_size]) # ()の条件がTrueになる個数\n",
    "    \n",
    "print(\"Accuracy: \" + str(accuracy_count / len(x)))\n"
   ]
  },
  {
   "cell_type": "markdown",
   "metadata": {},
   "source": [
    "init_network()で呼ばれているnetworkのパラメータは、W1(784,50), W2(50, 100), W3(100, 10)という形状  \n",
    "ここでxは、1枚ずつの際は(1, 784), バッチ処理の際は(100, 784)の形状で入力されて、W1~3とのdot積が計算される  \n",
    "行列計算では、1つ目の被演算子の列と2つ目の被演算子の行があっていれば問題なく計算でき、xの1次元目はバッチ処理の有無にかかわらず784なので、predict()などそのものを修正する必要はない"
   ]
  },
  {
   "cell_type": "code",
   "execution_count": null,
   "metadata": {},
   "outputs": [],
   "source": []
  }
 ],
 "metadata": {
  "kernelspec": {
   "display_name": "Python 3",
   "language": "python",
   "name": "python3"
  },
  "language_info": {
   "codemirror_mode": {
    "name": "ipython",
    "version": 3
   },
   "file_extension": ".py",
   "mimetype": "text/x-python",
   "name": "python",
   "nbconvert_exporter": "python",
   "pygments_lexer": "ipython3",
   "version": "3.6.6"
  },
  "toc": {
   "base_numbering": 1,
   "nav_menu": {},
   "number_sections": true,
   "sideBar": true,
   "skip_h1_title": false,
   "title_cell": "Table of Contents",
   "title_sidebar": "Contents",
   "toc_cell": false,
   "toc_position": {},
   "toc_section_display": true,
   "toc_window_display": false
  },
  "varInspector": {
   "cols": {
    "lenName": 16,
    "lenType": 16,
    "lenVar": 40
   },
   "kernels_config": {
    "python": {
     "delete_cmd_postfix": "",
     "delete_cmd_prefix": "del ",
     "library": "var_list.py",
     "varRefreshCmd": "print(var_dic_list())"
    },
    "r": {
     "delete_cmd_postfix": ") ",
     "delete_cmd_prefix": "rm(",
     "library": "var_list.r",
     "varRefreshCmd": "cat(var_dic_list()) "
    }
   },
   "oldHeight": 588.9058180000001,
   "position": {
    "height": "637.883px",
    "left": "1169.85px",
    "right": "20px",
    "top": "-0.0568185px",
    "width": "303.466px"
   },
   "types_to_exclude": [
    "module",
    "function",
    "builtin_function_or_method",
    "instance",
    "_Feature"
   ],
   "varInspector_section_display": "block",
   "window_display": true
  }
 },
 "nbformat": 4,
 "nbformat_minor": 2
}
